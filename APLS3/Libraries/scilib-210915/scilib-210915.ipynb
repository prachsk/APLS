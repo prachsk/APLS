{
 "cells": [
  {
   "cell_type": "markdown",
   "source": [
    "Before you turn this problem in, make sure everything runs as expected. First, **restart the kernel** (in the menubar, select Kernel$\\rightarrow$Restart) and then **run all cells** (in the menubar, select Cell$\\rightarrow$Run All).\n",
    "\n",
    "Make sure you fill in any place that says `YOUR CODE HERE`:"
   ],
   "metadata": {}
  },
  {
   "cell_type": "code",
   "execution_count": 1,
   "source": [
    "NAME = \"Prach Techameena\"\n"
   ],
   "outputs": [],
   "metadata": {}
  },
  {
   "cell_type": "markdown",
   "source": [
    "---"
   ],
   "metadata": {}
  },
  {
   "cell_type": "markdown",
   "source": [
    "## Scientific libraries\n",
    "\n",
    "### Setup\n",
    "\n",
    "For this lab install the following libraries in your virtual environment\n",
    "\n",
    "bash\n",
    "~~~\n",
    "$ source venv/bin/activate \n",
    "$ (venv) python -m pip install pandas matplotlib requests\n",
    "~~~\n",
    "\n",
    "windows\n",
    "~~~\n",
    "$ venv/Scripts/activate \n",
    "$ (venv) python -m pip install pandas matplotlib requests\n",
    "~~~"
   ],
   "metadata": {}
  },
  {
   "cell_type": "code",
   "execution_count": 2,
   "source": [
    "import numpy as np\n",
    "import pandas as pd\n",
    "import numpy.testing as npt\n",
    "import pandas.testing as pdt\n",
    "import matplotlib.pyplot as plt\n",
    "import requests\n",
    "from IPython.display import Image, HTML"
   ],
   "outputs": [],
   "metadata": {
    "deletable": false,
    "editable": false,
    "nbgrader": {
     "cell_type": "code",
     "checksum": "6e190214d0009d472970a94326c1a4cf",
     "grade": false,
     "grade_id": "cell-51c5aa4ccb59a94a",
     "locked": true,
     "schema_version": 3,
     "solution": false
    }
   }
  },
  {
   "cell_type": "markdown",
   "source": [
    "## Numpy\n",
    "\n",
    "Complete the function with vector operations (no for-loops) so that the required functionality is obtained. Hint: https://www.python-course.eu/numpy_masking.php\n"
   ],
   "metadata": {
    "deletable": false,
    "editable": false,
    "nbgrader": {
     "cell_type": "markdown",
     "checksum": "b45c888e02f76c8d1d0e05fe8db6fd52",
     "grade": false,
     "grade_id": "cell-4f91f3b314e3b380",
     "locked": true,
     "schema_version": 3,
     "solution": false
    }
   }
  },
  {
   "cell_type": "markdown",
   "source": [
    "### Assignment 1\n",
    "Replace negative numbers in an array with zeros"
   ],
   "metadata": {}
  },
  {
   "cell_type": "code",
   "execution_count": 3,
   "source": [
    "def set_negative_to_zero(a):\n",
    "    \"\"\"\n",
    "    Return a copy an array with negative value set to zero\n",
    "    \"\"\"\n",
    "    # YOUR CODE HERE\n",
    "    ################\n",
    "    b = np.copy(a)\n",
    "    b[b<0] = 0\n",
    "    return b\n",
    "    \n",
    "\n",
    "set_negative_to_zero(np.array([1, 2, -3, 4, -5]))\n",
    "#expected: array([1, 2, 0, 4, 0])"
   ],
   "outputs": [
    {
     "output_type": "execute_result",
     "data": {
      "text/plain": [
       "array([1, 2, 0, 4, 0])"
      ]
     },
     "metadata": {},
     "execution_count": 3
    }
   ],
   "metadata": {
    "deletable": false,
    "nbgrader": {
     "cell_type": "code",
     "checksum": "2bcc4844456d4e8d200bcd172ab33407",
     "grade": false,
     "grade_id": "cell-f86207230b89f6ff",
     "locked": false,
     "schema_version": 3,
     "solution": true
    }
   }
  },
  {
   "cell_type": "code",
   "execution_count": 4,
   "source": [
    "a = np.array([1, 2, -3, 4, -5])\n",
    "b = set_negative_to_zero(a)\n",
    "\n",
    "# Verify that the original is unchanged\n",
    "npt.assert_equal(a, [1, 2, -3, 4, -5])\n",
    "# Verify that returned array has negative values set to zero\n",
    "npt.assert_equal(b, [1, 2, 0, 4, 0])"
   ],
   "outputs": [],
   "metadata": {
    "deletable": false,
    "editable": false,
    "nbgrader": {
     "cell_type": "code",
     "checksum": "556bc0fcaa59a98379fffbc1b43ba05a",
     "grade": true,
     "grade_id": "cell-9cd35c1e86a3f8e5",
     "locked": true,
     "points": 1,
     "schema_version": 3,
     "solution": false
    }
   }
  },
  {
   "cell_type": "markdown",
   "source": [
    "Solve this \"Math Genius\" problem\n",
    "with a one-line Python command\n",
    "\n",
    "<img src=\"solve_me.png\" width=\"400\">"
   ],
   "metadata": {
    "deletable": false,
    "editable": false,
    "nbgrader": {
     "cell_type": "markdown",
     "checksum": "c33ac76e650467017737b27733f2f3fd",
     "grade": false,
     "grade_id": "cell-f02740bf292d7c27",
     "locked": true,
     "schema_version": 3,
     "solution": false,
     "task": false
    }
   },
   "attachments": {}
  },
  {
   "cell_type": "code",
   "execution_count": 5,
   "source": [
    "def solve_me():\n",
    "    return (\n",
    "    # YOUR CODE HERE\n",
    "    ################\n",
    "    np.sum(np.linalg.solve(np.array([[3,0,0],[-1,2,0],[0,1,1]]),np.array([39,25,44])))\n",
    "    )\n",
    "    \n",
    "solve_me()"
   ],
   "outputs": [
    {
     "output_type": "execute_result",
     "data": {
      "text/plain": [
       "57.0"
      ]
     },
     "metadata": {},
     "execution_count": 5
    }
   ],
   "metadata": {
    "deletable": false,
    "nbgrader": {
     "cell_type": "code",
     "checksum": "93f7d33233aba26237ce1ca21c9f12a2",
     "grade": false,
     "grade_id": "cell-89e8e663ef832df5",
     "locked": false,
     "schema_version": 3,
     "solution": true,
     "task": false
    }
   }
  },
  {
   "cell_type": "code",
   "execution_count": 6,
   "source": [
    "assert  solve_me() == 57"
   ],
   "outputs": [],
   "metadata": {
    "deletable": false,
    "editable": false,
    "nbgrader": {
     "cell_type": "code",
     "checksum": "747b8f8d912c4950bd4ed478728d7bdf",
     "grade": true,
     "grade_id": "cell-e2a88cbeece786cb",
     "locked": true,
     "points": 1,
     "schema_version": 3,
     "solution": false,
     "task": false
    }
   }
  },
  {
   "cell_type": "markdown",
   "source": [
    "## Pandas\n",
    "\n",
    "### Setup\n",
    "\n",
    "In this section we are going to read from a movie database into pandas. There is some setup required for this\n",
    "\n",
    "* Goto http://www.omdbapi.com\n",
    "* Click API Key\n",
    "* Select FREE and enter your email\n",
    "\n",
    "You will get a personal code in your mailbox , save this in a file omdb.py in the same folder where you started jupyter:\n",
    "\n",
    "~~~\n",
    "#omdb.py\n",
    "APIKEY='abcdef'\n",
    "~~~\n",
    "\n",
    "replacing 'abcdef' with your own key"
   ],
   "metadata": {}
  },
  {
   "cell_type": "code",
   "execution_count": 7,
   "source": [
    "from omdb import APIKEY\n"
   ],
   "outputs": [],
   "metadata": {
    "deletable": false,
    "editable": false,
    "nbgrader": {
     "cell_type": "code",
     "checksum": "bc49874a2085c9335b1db1aaaf3fa214",
     "grade": false,
     "grade_id": "cell-fa641851d85f42ff",
     "locked": true,
     "schema_version": 3,
     "solution": false
    }
   }
  },
  {
   "cell_type": "markdown",
   "source": [
    "### Assignment 2\n",
    "\n",
    "Consider the following function, it takes a search term calls the requests library (get) which and returns a dictionary object."
   ],
   "metadata": {
    "deletable": false,
    "editable": false,
    "nbgrader": {
     "cell_type": "markdown",
     "checksum": "b4715d6d8d36284b61119f89105c5315",
     "grade": false,
     "grade_id": "cell-e56a5b267f69c41c",
     "locked": true,
     "schema_version": 3,
     "solution": false
    }
   }
  },
  {
   "cell_type": "code",
   "execution_count": 8,
   "source": [
    "def search_omdb(title):\n",
    "    url = f'https://www.omdbapi.com/?apikey={APIKEY}&s={title}'\n",
    "    r = requests.get(url)\n",
    "    if r.ok:\n",
    "       return r.json()\n",
    "\n",
    "search_omdb('tarzan')"
   ],
   "outputs": [
    {
     "output_type": "execute_result",
     "data": {
      "text/plain": [
       "{'Search': [{'Title': 'Tarzan',\n",
       "   'Year': '1999',\n",
       "   'imdbID': 'tt0120855',\n",
       "   'Type': 'movie',\n",
       "   'Poster': 'https://m.media-amazon.com/images/M/MV5BY2ZiYWUxN2ItYmQxZi00NDlkLWE2NDAtOTNmYTg1MDI0NDk1XkEyXkFqcGdeQXVyNjUwNzk3NDc@._V1_SX300.jpg'},\n",
       "  {'Title': 'The Legend of Tarzan',\n",
       "   'Year': '2016',\n",
       "   'imdbID': 'tt0918940',\n",
       "   'Type': 'movie',\n",
       "   'Poster': 'https://m.media-amazon.com/images/M/MV5BMzY3OTI0OTcyMF5BMl5BanBnXkFtZTgwNjkxNTAwOTE@._V1_SX300.jpg'},\n",
       "  {'Title': 'Greystoke: The Legend of Tarzan, Lord of the Apes',\n",
       "   'Year': '1984',\n",
       "   'imdbID': 'tt0087365',\n",
       "   'Type': 'movie',\n",
       "   'Poster': 'https://m.media-amazon.com/images/M/MV5BM2NmYjZjOGItYTQ0ZC00YjcyLTk3MWUtYzdmZjY1MGNkMDViXkEyXkFqcGdeQXVyNzc5MjA3OA@@._V1_SX300.jpg'},\n",
       "  {'Title': 'Tarzan',\n",
       "   'Year': '2013',\n",
       "   'imdbID': 'tt1705952',\n",
       "   'Type': 'movie',\n",
       "   'Poster': 'https://m.media-amazon.com/images/M/MV5BMTQyODEwMTM2Nl5BMl5BanBnXkFtZTgwMTg1MTA3MDE@._V1_SX300.jpg'},\n",
       "  {'Title': 'Tarzan 2: The Legend Begins',\n",
       "   'Year': '2005',\n",
       "   'imdbID': 'tt0437503',\n",
       "   'Type': 'movie',\n",
       "   'Poster': 'https://m.media-amazon.com/images/M/MV5BODUwZWRkMzAtYzFhMS00MGU5LWJhNDQtNzI2NGQ1NDA3NTBiXkEyXkFqcGdeQXVyODc5NjY4MzU@._V1_SX300.jpg'},\n",
       "  {'Title': 'Tarzan the Ape Man',\n",
       "   'Year': '1932',\n",
       "   'imdbID': 'tt0023551',\n",
       "   'Type': 'movie',\n",
       "   'Poster': 'https://m.media-amazon.com/images/M/MV5BNTVlMDAwMDQtMTEzMC00YjhlLWEyYTctNjMzN2M0NGI0MTEwXkEyXkFqcGdeQXVyNDE5MTU2MDE@._V1_SX300.jpg'},\n",
       "  {'Title': 'Tarzan & Jane',\n",
       "   'Year': '2002',\n",
       "   'imdbID': 'tt0313680',\n",
       "   'Type': 'movie',\n",
       "   'Poster': 'https://m.media-amazon.com/images/M/MV5BMjAwMTM5NzM4OF5BMl5BanBnXkFtZTcwOTE2NDkyMQ@@._V1_SX300.jpg'},\n",
       "  {'Title': 'Tarzan the Ape Man',\n",
       "   'Year': '1981',\n",
       "   'imdbID': 'tt0083170',\n",
       "   'Type': 'movie',\n",
       "   'Poster': 'https://m.media-amazon.com/images/M/MV5BZGU5ZTUyZmMtZjExYy00MDAzLTljZTEtMGE0MWI5YWFiYTJkXkEyXkFqcGdeQXVyNzc5MjA3OA@@._V1_SX300.jpg'},\n",
       "  {'Title': 'Tarzan and His Mate',\n",
       "   'Year': '1934',\n",
       "   'imdbID': 'tt0025862',\n",
       "   'Type': 'movie',\n",
       "   'Poster': 'https://m.media-amazon.com/images/M/MV5BNmQ4OWJhY2MtNWUzZi00YjcwLThhNmEtMWU0YWQzNDEzNDcxXkEyXkFqcGdeQXVyNDE5MTU2MDE@._V1_SX300.jpg'},\n",
       "  {'Title': 'Tarzan Finds a Son!',\n",
       "   'Year': '1939',\n",
       "   'imdbID': 'tt0032007',\n",
       "   'Type': 'movie',\n",
       "   'Poster': 'https://m.media-amazon.com/images/M/MV5BMGU5MDdhYzktYjUyNi00YjYyLThjNDMtNjRjYmE4NjJlNzYwXkEyXkFqcGdeQXVyNDE5MTU2MDE@._V1_SX300.jpg'}],\n",
       " 'totalResults': '167',\n",
       " 'Response': 'True'}"
      ]
     },
     "metadata": {},
     "execution_count": 8
    }
   ],
   "metadata": {
    "deletable": false,
    "editable": false,
    "nbgrader": {
     "cell_type": "code",
     "checksum": "fe5f1af6dc3031386d31a15522c1e24d",
     "grade": false,
     "grade_id": "cell-f73d4b25ebd405e3",
     "locked": true,
     "schema_version": 3,
     "solution": false
    }
   }
  },
  {
   "cell_type": "markdown",
   "source": [
    "Write a function that wraps the previous function search_omdb, and that returns\n",
    "\n",
    "* a dataframe \n",
    "* has rows sorted by year\n",
    "* and the imdbID field as index"
   ],
   "metadata": {}
  },
  {
   "cell_type": "code",
   "execution_count": 9,
   "source": [
    "def get_movies(title):\n",
    "    r = search_omdb(title)\n",
    "    # YOUR CODE HERE\n",
    "    ################\n",
    "    df = pd.DataFrame(r['Search'])\n",
    "    df = df.set_index('imdbID')\n",
    "    df = df.sort_values(by=['Year'])\n",
    "    return df\n",
    "get_movies('hamlet')"
   ],
   "outputs": [
    {
     "output_type": "execute_result",
     "data": {
      "text/html": [
       "<div>\n",
       "<style scoped>\n",
       "    .dataframe tbody tr th:only-of-type {\n",
       "        vertical-align: middle;\n",
       "    }\n",
       "\n",
       "    .dataframe tbody tr th {\n",
       "        vertical-align: top;\n",
       "    }\n",
       "\n",
       "    .dataframe thead th {\n",
       "        text-align: right;\n",
       "    }\n",
       "</style>\n",
       "<table border=\"1\" class=\"dataframe\">\n",
       "  <thead>\n",
       "    <tr style=\"text-align: right;\">\n",
       "      <th></th>\n",
       "      <th>Title</th>\n",
       "      <th>Year</th>\n",
       "      <th>Type</th>\n",
       "      <th>Poster</th>\n",
       "    </tr>\n",
       "    <tr>\n",
       "      <th>imdbID</th>\n",
       "      <th></th>\n",
       "      <th></th>\n",
       "      <th></th>\n",
       "      <th></th>\n",
       "    </tr>\n",
       "  </thead>\n",
       "  <tbody>\n",
       "    <tr>\n",
       "      <th>tt0040416</th>\n",
       "      <td>Hamlet</td>\n",
       "      <td>1948</td>\n",
       "      <td>movie</td>\n",
       "      <td>https://m.media-amazon.com/images/M/MV5BMTQ5MT...</td>\n",
       "    </tr>\n",
       "    <tr>\n",
       "      <th>tt0053888</th>\n",
       "      <td>Hamlet</td>\n",
       "      <td>1960</td>\n",
       "      <td>movie</td>\n",
       "      <td>https://m.media-amazon.com/images/M/MV5BNDdhYj...</td>\n",
       "    </tr>\n",
       "    <tr>\n",
       "      <th>tt0064400</th>\n",
       "      <td>Hamlet</td>\n",
       "      <td>1969</td>\n",
       "      <td>movie</td>\n",
       "      <td>https://m.media-amazon.com/images/M/MV5BZmE5OG...</td>\n",
       "    </tr>\n",
       "    <tr>\n",
       "      <th>tt0093139</th>\n",
       "      <td>Hamlet liikemaailmassa</td>\n",
       "      <td>1987</td>\n",
       "      <td>movie</td>\n",
       "      <td>https://m.media-amazon.com/images/M/MV5BY2U1MW...</td>\n",
       "    </tr>\n",
       "    <tr>\n",
       "      <th>tt0099726</th>\n",
       "      <td>Hamlet</td>\n",
       "      <td>1990</td>\n",
       "      <td>movie</td>\n",
       "      <td>https://m.media-amazon.com/images/M/MV5BMjI5OT...</td>\n",
       "    </tr>\n",
       "    <tr>\n",
       "      <th>tt0116477</th>\n",
       "      <td>Hamlet</td>\n",
       "      <td>1996</td>\n",
       "      <td>movie</td>\n",
       "      <td>https://m.media-amazon.com/images/M/MV5BM2U5OW...</td>\n",
       "    </tr>\n",
       "    <tr>\n",
       "      <th>tt0171359</th>\n",
       "      <td>Hamlet</td>\n",
       "      <td>2000</td>\n",
       "      <td>movie</td>\n",
       "      <td>https://m.media-amazon.com/images/M/MV5BZTA0MW...</td>\n",
       "    </tr>\n",
       "    <tr>\n",
       "      <th>tt1104733</th>\n",
       "      <td>Hamlet 2</td>\n",
       "      <td>2008</td>\n",
       "      <td>movie</td>\n",
       "      <td>https://m.media-amazon.com/images/M/MV5BNDQyNj...</td>\n",
       "    </tr>\n",
       "    <tr>\n",
       "      <th>tt1449175</th>\n",
       "      <td>Hamlet</td>\n",
       "      <td>2009</td>\n",
       "      <td>movie</td>\n",
       "      <td>https://m.media-amazon.com/images/M/MV5BMTM0MT...</td>\n",
       "    </tr>\n",
       "    <tr>\n",
       "      <th>tt4476736</th>\n",
       "      <td>National Theatre Live: Hamlet</td>\n",
       "      <td>2015</td>\n",
       "      <td>movie</td>\n",
       "      <td>https://m.media-amazon.com/images/M/MV5BMmNmOT...</td>\n",
       "    </tr>\n",
       "  </tbody>\n",
       "</table>\n",
       "</div>"
      ],
      "text/plain": [
       "                                   Title  Year   Type  \\\n",
       "imdbID                                                  \n",
       "tt0040416                         Hamlet  1948  movie   \n",
       "tt0053888                         Hamlet  1960  movie   \n",
       "tt0064400                         Hamlet  1969  movie   \n",
       "tt0093139         Hamlet liikemaailmassa  1987  movie   \n",
       "tt0099726                         Hamlet  1990  movie   \n",
       "tt0116477                         Hamlet  1996  movie   \n",
       "tt0171359                         Hamlet  2000  movie   \n",
       "tt1104733                       Hamlet 2  2008  movie   \n",
       "tt1449175                         Hamlet  2009  movie   \n",
       "tt4476736  National Theatre Live: Hamlet  2015  movie   \n",
       "\n",
       "                                                      Poster  \n",
       "imdbID                                                        \n",
       "tt0040416  https://m.media-amazon.com/images/M/MV5BMTQ5MT...  \n",
       "tt0053888  https://m.media-amazon.com/images/M/MV5BNDdhYj...  \n",
       "tt0064400  https://m.media-amazon.com/images/M/MV5BZmE5OG...  \n",
       "tt0093139  https://m.media-amazon.com/images/M/MV5BY2U1MW...  \n",
       "tt0099726  https://m.media-amazon.com/images/M/MV5BMjI5OT...  \n",
       "tt0116477  https://m.media-amazon.com/images/M/MV5BM2U5OW...  \n",
       "tt0171359  https://m.media-amazon.com/images/M/MV5BZTA0MW...  \n",
       "tt1104733  https://m.media-amazon.com/images/M/MV5BNDQyNj...  \n",
       "tt1449175  https://m.media-amazon.com/images/M/MV5BMTM0MT...  \n",
       "tt4476736  https://m.media-amazon.com/images/M/MV5BMmNmOT...  "
      ]
     },
     "metadata": {},
     "execution_count": 9
    }
   ],
   "metadata": {
    "deletable": false,
    "nbgrader": {
     "cell_type": "code",
     "checksum": "6276e9c36afab20414f95bc6920cde5e",
     "grade": false,
     "grade_id": "cell-705c4e34a12810fe",
     "locked": false,
     "schema_version": 3,
     "solution": true
    }
   }
  },
  {
   "cell_type": "code",
   "execution_count": 10,
   "source": [
    "movies = get_movies('hamlet')\n",
    "assert list(movies.columns) == ['Title', 'Year', 'Type', 'Poster']\n",
    "assert movies.index.name == 'imdbID'\n",
    "assert movies.Title.str.contains('hamlet', case=False).all()\n",
    "assert movies.Year.iloc[0] == '1948'  # checks the year value of the first row"
   ],
   "outputs": [],
   "metadata": {
    "deletable": false,
    "editable": false,
    "nbgrader": {
     "cell_type": "code",
     "checksum": "91ffe8fd6da8caaa81e25cc95868ad49",
     "grade": true,
     "grade_id": "cell-d567d36f20cdbe9f",
     "locked": true,
     "points": 1,
     "schema_version": 3,
     "solution": false
    }
   }
  },
  {
   "cell_type": "markdown",
   "source": [
    "### Assignment 3\n",
    "Given that the Image function can be used to display an image url"
   ],
   "metadata": {
    "deletable": false,
    "editable": false,
    "nbgrader": {
     "cell_type": "markdown",
     "checksum": "ea74381b710690ce8ee582e320e61ad5",
     "grade": false,
     "grade_id": "cell-0205e49363e30950",
     "locked": true,
     "schema_version": 3,
     "solution": false
    }
   }
  },
  {
   "cell_type": "code",
   "execution_count": 11,
   "source": [
    "display(\n",
    "Image(url='https://www.kth.se/files/avatar/sigbritt')\n",
    ")"
   ],
   "outputs": [
    {
     "output_type": "display_data",
     "data": {
      "text/html": [
       "<img src=\"https://www.kth.se/files/avatar/sigbritt\"/>"
      ],
      "text/plain": [
       "<IPython.core.display.Image object>"
      ]
     },
     "metadata": {}
    }
   ],
   "metadata": {}
  },
  {
   "cell_type": "markdown",
   "source": [
    "... write a function that takes a search term, calls get_movies and displays the posters that match the title\n",
    "\n",
    "    display_posters('python')\n",
    "    \n",
    "use [the pandas method iterrows](https://pandas.pydata.org/pandas-docs/stable/reference/api/pandas.DataFrame.iterrows.html) to loop over the rows of a data frame"
   ],
   "metadata": {}
  },
  {
   "cell_type": "code",
   "execution_count": 12,
   "source": [
    "def display_posters(title):\n",
    "    movies = get_movies(title)\n",
    "    # YOUR CODE HERE\n",
    "    ################\n",
    "    pic = []\n",
    "    for index, row in movies.iterrows():\n",
    "\n",
    "        display(Image(url=row['Poster']))\n",
    "    \n",
    "         \n",
    "        "
   ],
   "outputs": [],
   "metadata": {
    "deletable": false,
    "nbgrader": {
     "cell_type": "code",
     "checksum": "a09d7fc5e62cd4ff3849033763b39ce9",
     "grade": false,
     "grade_id": "cell-525050f7c430a30c",
     "locked": false,
     "schema_version": 3,
     "solution": true
    }
   }
  },
  {
   "cell_type": "code",
   "execution_count": 13,
   "source": [
    "get_movies('python')"
   ],
   "outputs": [
    {
     "output_type": "execute_result",
     "data": {
      "text/html": [
       "<div>\n",
       "<style scoped>\n",
       "    .dataframe tbody tr th:only-of-type {\n",
       "        vertical-align: middle;\n",
       "    }\n",
       "\n",
       "    .dataframe tbody tr th {\n",
       "        vertical-align: top;\n",
       "    }\n",
       "\n",
       "    .dataframe thead th {\n",
       "        text-align: right;\n",
       "    }\n",
       "</style>\n",
       "<table border=\"1\" class=\"dataframe\">\n",
       "  <thead>\n",
       "    <tr style=\"text-align: right;\">\n",
       "      <th></th>\n",
       "      <th>Title</th>\n",
       "      <th>Year</th>\n",
       "      <th>Type</th>\n",
       "      <th>Poster</th>\n",
       "    </tr>\n",
       "    <tr>\n",
       "      <th>imdbID</th>\n",
       "      <th></th>\n",
       "      <th></th>\n",
       "      <th></th>\n",
       "      <th></th>\n",
       "    </tr>\n",
       "  </thead>\n",
       "  <tbody>\n",
       "    <tr>\n",
       "      <th>tt0071853</th>\n",
       "      <td>Monty Python and the Holy Grail</td>\n",
       "      <td>1975</td>\n",
       "      <td>movie</td>\n",
       "      <td>https://m.media-amazon.com/images/M/MV5BN2IyNT...</td>\n",
       "    </tr>\n",
       "    <tr>\n",
       "      <th>tt0075082</th>\n",
       "      <td>Police Python 357</td>\n",
       "      <td>1976</td>\n",
       "      <td>movie</td>\n",
       "      <td>https://m.media-amazon.com/images/M/MV5BNTFkZW...</td>\n",
       "    </tr>\n",
       "    <tr>\n",
       "      <th>tt0084352</th>\n",
       "      <td>Monty Python Live at the Hollywood Bowl</td>\n",
       "      <td>1982</td>\n",
       "      <td>movie</td>\n",
       "      <td>https://m.media-amazon.com/images/M/MV5BMTcxNj...</td>\n",
       "    </tr>\n",
       "    <tr>\n",
       "      <th>tt0213984</th>\n",
       "      <td>Parrot Sketch Not Included: Twenty Years of Mo...</td>\n",
       "      <td>1989</td>\n",
       "      <td>movie</td>\n",
       "      <td>https://m.media-amazon.com/images/M/MV5BMTkzND...</td>\n",
       "    </tr>\n",
       "    <tr>\n",
       "      <th>tt0151625</th>\n",
       "      <td>Monty Python &amp; the Quest for the Holy Grail</td>\n",
       "      <td>1996</td>\n",
       "      <td>game</td>\n",
       "      <td>https://m.media-amazon.com/images/M/MV5BYjM5MW...</td>\n",
       "    </tr>\n",
       "    <tr>\n",
       "      <th>tt0209264</th>\n",
       "      <td>Python</td>\n",
       "      <td>2000</td>\n",
       "      <td>movie</td>\n",
       "      <td>https://m.media-amazon.com/images/M/MV5BZGZlNW...</td>\n",
       "    </tr>\n",
       "    <tr>\n",
       "      <th>tt0412523</th>\n",
       "      <td>Boa vs. Python</td>\n",
       "      <td>2004</td>\n",
       "      <td>movie</td>\n",
       "      <td>https://m.media-amazon.com/images/M/MV5BMTYwND...</td>\n",
       "    </tr>\n",
       "    <tr>\n",
       "      <th>tt1422182</th>\n",
       "      <td>Monty Python: Almost the Truth - The Lawyer's Cut</td>\n",
       "      <td>2009–</td>\n",
       "      <td>series</td>\n",
       "      <td>https://m.media-amazon.com/images/M/MV5BMTU1OT...</td>\n",
       "    </tr>\n",
       "    <tr>\n",
       "      <th>tt1680138</th>\n",
       "      <td>Mega Python vs. Gatoroid</td>\n",
       "      <td>2011</td>\n",
       "      <td>movie</td>\n",
       "      <td>https://m.media-amazon.com/images/M/MV5BMjEwOD...</td>\n",
       "    </tr>\n",
       "    <tr>\n",
       "      <th>tt3872778</th>\n",
       "      <td>Monty Python Live (Mostly)</td>\n",
       "      <td>2014</td>\n",
       "      <td>movie</td>\n",
       "      <td>https://m.media-amazon.com/images/M/MV5BMzUzYz...</td>\n",
       "    </tr>\n",
       "  </tbody>\n",
       "</table>\n",
       "</div>"
      ],
      "text/plain": [
       "                                                       Title   Year    Type  \\\n",
       "imdbID                                                                        \n",
       "tt0071853                    Monty Python and the Holy Grail   1975   movie   \n",
       "tt0075082                                  Police Python 357   1976   movie   \n",
       "tt0084352            Monty Python Live at the Hollywood Bowl   1982   movie   \n",
       "tt0213984  Parrot Sketch Not Included: Twenty Years of Mo...   1989   movie   \n",
       "tt0151625        Monty Python & the Quest for the Holy Grail   1996    game   \n",
       "tt0209264                                             Python   2000   movie   \n",
       "tt0412523                                     Boa vs. Python   2004   movie   \n",
       "tt1422182  Monty Python: Almost the Truth - The Lawyer's Cut  2009–  series   \n",
       "tt1680138                           Mega Python vs. Gatoroid   2011   movie   \n",
       "tt3872778                         Monty Python Live (Mostly)   2014   movie   \n",
       "\n",
       "                                                      Poster  \n",
       "imdbID                                                        \n",
       "tt0071853  https://m.media-amazon.com/images/M/MV5BN2IyNT...  \n",
       "tt0075082  https://m.media-amazon.com/images/M/MV5BNTFkZW...  \n",
       "tt0084352  https://m.media-amazon.com/images/M/MV5BMTcxNj...  \n",
       "tt0213984  https://m.media-amazon.com/images/M/MV5BMTkzND...  \n",
       "tt0151625  https://m.media-amazon.com/images/M/MV5BYjM5MW...  \n",
       "tt0209264  https://m.media-amazon.com/images/M/MV5BZGZlNW...  \n",
       "tt0412523  https://m.media-amazon.com/images/M/MV5BMTYwND...  \n",
       "tt1422182  https://m.media-amazon.com/images/M/MV5BMTU1OT...  \n",
       "tt1680138  https://m.media-amazon.com/images/M/MV5BMjEwOD...  \n",
       "tt3872778  https://m.media-amazon.com/images/M/MV5BMzUzYz...  "
      ]
     },
     "metadata": {},
     "execution_count": 13
    }
   ],
   "metadata": {}
  },
  {
   "cell_type": "code",
   "execution_count": 14,
   "source": [
    "display_posters('python')"
   ],
   "outputs": [
    {
     "output_type": "display_data",
     "data": {
      "text/html": [
       "<img src=\"https://m.media-amazon.com/images/M/MV5BN2IyNTE4YzUtZWU0Mi00MGIwLTgyMmQtMzQ4YzQxYWNlYWE2XkEyXkFqcGdeQXVyNjU0OTQ0OTY@._V1_SX300.jpg\"/>"
      ],
      "text/plain": [
       "<IPython.core.display.Image object>"
      ]
     },
     "metadata": {}
    },
    {
     "output_type": "display_data",
     "data": {
      "text/html": [
       "<img src=\"https://m.media-amazon.com/images/M/MV5BNTFkZWM1NDktOWE3Ni00MjUxLWJlNDktMzc1NTBjMzFjNzUxXkEyXkFqcGdeQXVyNzgzODI1OTE@._V1_SX300.jpg\"/>"
      ],
      "text/plain": [
       "<IPython.core.display.Image object>"
      ]
     },
     "metadata": {}
    },
    {
     "output_type": "display_data",
     "data": {
      "text/html": [
       "<img src=\"https://m.media-amazon.com/images/M/MV5BMTcxNjUyMzMyMV5BMl5BanBnXkFtZTYwNjEzNjE5._V1_SX300.jpg\"/>"
      ],
      "text/plain": [
       "<IPython.core.display.Image object>"
      ]
     },
     "metadata": {}
    },
    {
     "output_type": "display_data",
     "data": {
      "text/html": [
       "<img src=\"https://m.media-amazon.com/images/M/MV5BMTkzNDA5MTA5MV5BMl5BanBnXkFtZTgwMzMzOTk1MDE@._V1_SX300.jpg\"/>"
      ],
      "text/plain": [
       "<IPython.core.display.Image object>"
      ]
     },
     "metadata": {}
    },
    {
     "output_type": "display_data",
     "data": {
      "text/html": [
       "<img src=\"https://m.media-amazon.com/images/M/MV5BYjM5MWQ3MTQtMDE3OC00ZTA4LThhN2UtNTY0N2FhYjg4N2Q0XkEyXkFqcGdeQXVyNjExODE1MDc@._V1_SX300.jpg\"/>"
      ],
      "text/plain": [
       "<IPython.core.display.Image object>"
      ]
     },
     "metadata": {}
    },
    {
     "output_type": "display_data",
     "data": {
      "text/html": [
       "<img src=\"https://m.media-amazon.com/images/M/MV5BZGZlNWU0ZWEtNzY4MC00NDdmLTgzOTktOTgzMjBlNGMxN2ZmL2ltYWdlL2ltYWdlXkEyXkFqcGdeQXVyMTQxNzMzNDI@._V1_SX300.jpg\"/>"
      ],
      "text/plain": [
       "<IPython.core.display.Image object>"
      ]
     },
     "metadata": {}
    },
    {
     "output_type": "display_data",
     "data": {
      "text/html": [
       "<img src=\"https://m.media-amazon.com/images/M/MV5BMTYwNDEzOTYwM15BMl5BanBnXkFtZTcwODc2NjYyMQ@@._V1_SX300.jpg\"/>"
      ],
      "text/plain": [
       "<IPython.core.display.Image object>"
      ]
     },
     "metadata": {}
    },
    {
     "output_type": "display_data",
     "data": {
      "text/html": [
       "<img src=\"https://m.media-amazon.com/images/M/MV5BMTU1OTQ4MTI1MV5BMl5BanBnXkFtZTcwMjQ5OTM5Mg@@._V1_SX300.jpg\"/>"
      ],
      "text/plain": [
       "<IPython.core.display.Image object>"
      ]
     },
     "metadata": {}
    },
    {
     "output_type": "display_data",
     "data": {
      "text/html": [
       "<img src=\"https://m.media-amazon.com/images/M/MV5BMjEwODY1ODQ3Nl5BMl5BanBnXkFtZTgwMTAyMjM5MTE@._V1_SX300.jpg\"/>"
      ],
      "text/plain": [
       "<IPython.core.display.Image object>"
      ]
     },
     "metadata": {}
    },
    {
     "output_type": "display_data",
     "data": {
      "text/html": [
       "<img src=\"https://m.media-amazon.com/images/M/MV5BMzUzYzcxM2ItZDQ2MC00MzdkLTk2ZGItNzI2NjE5NGZhY2Q2XkEyXkFqcGdeQXVyNTM3MDMyMDQ@._V1_SX300.jpg\"/>"
      ],
      "text/plain": [
       "<IPython.core.display.Image object>"
      ]
     },
     "metadata": {}
    }
   ],
   "metadata": {}
  },
  {
   "cell_type": "code",
   "execution_count": null,
   "source": [],
   "outputs": [],
   "metadata": {
    "deletable": false,
    "editable": false,
    "nbgrader": {
     "cell_type": "code",
     "checksum": "223df6da88d664a1573169d6c5d0e143",
     "grade": true,
     "grade_id": "cell-515b196bc970407d",
     "locked": true,
     "points": 0,
     "schema_version": 3,
     "solution": false
    }
   }
  },
  {
   "cell_type": "markdown",
   "source": [
    "### Assignment 4\n",
    "Generate a bar plot with movie titles containing \"horse\" by year using\n",
    "\n",
    "    plot_by_year('horse')\n",
    "    \n",
    "to generate a plot of the form\n",
    "\n",
    "<img src=\"horse_titles.png\">"
   ],
   "metadata": {
    "deletable": false,
    "editable": false,
    "nbgrader": {
     "cell_type": "markdown",
     "checksum": "741c81256480dfe15eb10647da111c8c",
     "grade": false,
     "grade_id": "cell-2850596b975c2ef3",
     "locked": true,
     "schema_version": 3,
     "solution": false,
     "task": false
    }
   }
  },
  {
   "cell_type": "code",
   "execution_count": 15,
   "source": [
    "def plot_by_year(title):\n",
    "    # YOUR CODE HERE\n",
    "    ################\n",
    "    df = get_movies(title)\n",
    "    df[\"Year\"].value_counts().sort_index().plot(kind='bar')\n"
   ],
   "outputs": [],
   "metadata": {
    "deletable": false,
    "nbgrader": {
     "cell_type": "code",
     "checksum": "23395317e04c44d44f060209f159146d",
     "grade": false,
     "grade_id": "cell-00bc157b79aff07d",
     "locked": false,
     "schema_version": 3,
     "solution": true,
     "task": false
    }
   }
  },
  {
   "cell_type": "code",
   "execution_count": 16,
   "source": [
    "plot_by_year('horse')"
   ],
   "outputs": [
    {
     "output_type": "display_data",
     "data": {
      "image/png": "[encoded data removed]",
      "text/plain": [
       "<Figure size 432x288 with 1 Axes>"
      ]
     },
     "metadata": {
      "needs_background": "light"
     }
    }
   ],
   "metadata": {}
  },
  {
   "cell_type": "code",
   "execution_count": null,
   "source": [],
   "outputs": [],
   "metadata": {
    "deletable": false,
    "editable": false,
    "nbgrader": {
     "cell_type": "code",
     "checksum": "31e12b597d3dd65584b7350612023045",
     "grade": true,
     "grade_id": "cell-fbc7d21ddce44698",
     "locked": true,
     "points": 1,
     "schema_version": 3,
     "solution": false,
     "task": false
    }
   }
  },
  {
   "cell_type": "code",
   "execution_count": null,
   "source": [],
   "outputs": [],
   "metadata": {}
  }
 ],
 "metadata": {
  "kernelspec": {
   "name": "python3",
   "display_name": "Python 3.8.10 64-bit ('base': conda)"
  },
  "language_info": {
   "codemirror_mode": {
    "name": "ipython",
    "version": 3
   },
   "file_extension": ".py",
   "mimetype": "text/x-python",
   "name": "python",
   "nbconvert_exporter": "python",
   "pygments_lexer": "ipython3",
   "version": "3.8.10"
  },
  "interpreter": {
   "hash": "e134e05457d34029b6460cd73bbf1ed73f339b5b6d98c95be70b69eba114fe95"
  }
 },
 "nbformat": 4,
 "nbformat_minor": 2
}